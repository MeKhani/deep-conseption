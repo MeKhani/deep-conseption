{
 "cells": [
  {
   "cell_type": "code",
   "execution_count": null,
   "metadata": {},
   "outputs": [
    {
     "name": "stdout",
     "output_type": "stream",
     "text": [
      "Requirement already satisfied: dgl in c:\\users\\mekhani\\anaconda3\\envs\\dglenv\\lib\\site-packages (2.2.1)\n",
      "Requirement already satisfied: numpy>=1.14.0 in c:\\users\\mekhani\\anaconda3\\envs\\dglenv\\lib\\site-packages (from dgl) (1.26.4)\n",
      "Requirement already satisfied: scipy>=1.1.0 in c:\\users\\mekhani\\anaconda3\\envs\\dglenv\\lib\\site-packages (from dgl) (1.13.1)\n",
      "Requirement already satisfied: networkx>=2.1 in c:\\users\\mekhani\\anaconda3\\envs\\dglenv\\lib\\site-packages (from dgl) (3.2.1)\n",
      "Requirement already satisfied: requests>=2.19.0 in c:\\users\\mekhani\\anaconda3\\envs\\dglenv\\lib\\site-packages (from dgl) (2.32.3)\n",
      "Requirement already satisfied: tqdm in c:\\users\\mekhani\\anaconda3\\envs\\dglenv\\lib\\site-packages (from dgl) (4.66.5)\n",
      "Requirement already satisfied: psutil>=5.8.0 in c:\\users\\mekhani\\anaconda3\\envs\\dglenv\\lib\\site-packages (from dgl) (6.1.0)\n",
      "Requirement already satisfied: torchdata>=0.5.0 in c:\\users\\mekhani\\anaconda3\\envs\\dglenv\\lib\\site-packages (from dgl) (0.6.0)\n",
      "Requirement already satisfied: pandas in c:\\users\\mekhani\\anaconda3\\envs\\dglenv\\lib\\site-packages (from dgl) (2.2.3)\n",
      "Requirement already satisfied: charset-normalizer<4,>=2 in c:\\users\\mekhani\\anaconda3\\envs\\dglenv\\lib\\site-packages (from requests>=2.19.0->dgl) (3.3.2)\n",
      "Requirement already satisfied: idna<4,>=2.5 in c:\\users\\mekhani\\anaconda3\\envs\\dglenv\\lib\\site-packages (from requests>=2.19.0->dgl) (3.7)\n",
      "Requirement already satisfied: urllib3<3,>=1.21.1 in c:\\users\\mekhani\\anaconda3\\envs\\dglenv\\lib\\site-packages (from requests>=2.19.0->dgl) (2.2.3)\n",
      "Requirement already satisfied: certifi>=2017.4.17 in c:\\users\\mekhani\\anaconda3\\envs\\dglenv\\lib\\site-packages (from requests>=2.19.0->dgl) (2024.8.30)\n",
      "Requirement already satisfied: torch==2.0.0 in c:\\users\\mekhani\\anaconda3\\envs\\dglenv\\lib\\site-packages (from torchdata>=0.5.0->dgl) (2.0.0)\n",
      "Requirement already satisfied: filelock in c:\\users\\mekhani\\anaconda3\\envs\\dglenv\\lib\\site-packages (from torch==2.0.0->torchdata>=0.5.0->dgl) (3.13.1)\n",
      "Requirement already satisfied: typing-extensions in c:\\users\\mekhani\\anaconda3\\envs\\dglenv\\lib\\site-packages (from torch==2.0.0->torchdata>=0.5.0->dgl) (4.12.2)\n",
      "Requirement already satisfied: sympy in c:\\users\\mekhani\\anaconda3\\envs\\dglenv\\lib\\site-packages (from torch==2.0.0->torchdata>=0.5.0->dgl) (1.13.2)\n",
      "Requirement already satisfied: jinja2 in c:\\users\\mekhani\\anaconda3\\envs\\dglenv\\lib\\site-packages (from torch==2.0.0->torchdata>=0.5.0->dgl) (3.1.4)\n",
      "Requirement already satisfied: python-dateutil>=2.8.2 in c:\\users\\mekhani\\anaconda3\\envs\\dglenv\\lib\\site-packages (from pandas->dgl) (2.9.0.post0)\n",
      "Requirement already satisfied: pytz>=2020.1 in c:\\users\\mekhani\\anaconda3\\envs\\dglenv\\lib\\site-packages (from pandas->dgl) (2024.1)\n",
      "Requirement already satisfied: tzdata>=2022.7 in c:\\users\\mekhani\\anaconda3\\envs\\dglenv\\lib\\site-packages (from pandas->dgl) (2023.3)\n",
      "Requirement already satisfied: colorama in c:\\users\\mekhani\\anaconda3\\envs\\dglenv\\lib\\site-packages (from tqdm->dgl) (0.4.6)\n",
      "Requirement already satisfied: six>=1.5 in c:\\users\\mekhani\\anaconda3\\envs\\dglenv\\lib\\site-packages (from python-dateutil>=2.8.2->pandas->dgl) (1.17.0)\n",
      "Requirement already satisfied: MarkupSafe>=2.0 in c:\\users\\mekhani\\anaconda3\\envs\\dglenv\\lib\\site-packages (from jinja2->torch==2.0.0->torchdata>=0.5.0->dgl) (2.1.3)\n",
      "Requirement already satisfied: mpmath<1.4,>=1.1.0 in c:\\users\\mekhani\\anaconda3\\envs\\dglenv\\lib\\site-packages (from sympy->torch==2.0.0->torchdata>=0.5.0->dgl) (1.3.0)\n",
      "Note: you may need to restart the kernel to use updated packages.\n"
     ]
    }
   ],
   "source": [
    "pip install dgl"
   ]
  },
  {
   "cell_type": "code",
   "execution_count": 11,
   "metadata": {},
   "outputs": [
    {
     "ename": "ImportError",
     "evalue": "cannot import name 'add_feature_to_graph_edges' from 'tool' (e:\\phd\\semester-4\\codes\\deep-conseption\\tool.py)",
     "output_type": "error",
     "traceback": [
      "\u001b[1;31m---------------------------------------------------------------------------\u001b[0m",
      "\u001b[1;31mImportError\u001b[0m                               Traceback (most recent call last)",
      "Cell \u001b[1;32mIn[11], line 2\u001b[0m\n\u001b[0;32m      1\u001b[0m \u001b[38;5;28;01mfrom\u001b[39;00m \u001b[38;5;21;01mtool\u001b[39;00m \u001b[38;5;28;01mimport\u001b[39;00m create_graph\n\u001b[1;32m----> 2\u001b[0m \u001b[38;5;28;01mfrom\u001b[39;00m \u001b[38;5;21;01mtool\u001b[39;00m \u001b[38;5;28;01mimport\u001b[39;00m add_feature_to_graph_edges\n\u001b[0;32m      3\u001b[0m triples \u001b[38;5;241m=\u001b[39m [(\u001b[38;5;241m1\u001b[39m,\u001b[38;5;241m2\u001b[39m,\u001b[38;5;241m3\u001b[39m),(\u001b[38;5;241m4\u001b[39m,\u001b[38;5;241m2\u001b[39m,\u001b[38;5;241m1\u001b[39m),(\u001b[38;5;241m5\u001b[39m,\u001b[38;5;241m1\u001b[39m,\u001b[38;5;241m3\u001b[39m),(\u001b[38;5;241m4\u001b[39m,\u001b[38;5;241m3\u001b[39m,\u001b[38;5;241m2\u001b[39m),(\u001b[38;5;241m3\u001b[39m,\u001b[38;5;241m2\u001b[39m,\u001b[38;5;241m1\u001b[39m)]\n\u001b[0;32m      4\u001b[0m graph  \u001b[38;5;241m=\u001b[39m create_graph(triples)\n",
      "\u001b[1;31mImportError\u001b[0m: cannot import name 'add_feature_to_graph_edges' from 'tool' (e:\\phd\\semester-4\\codes\\deep-conseption\\tool.py)"
     ]
    }
   ],
   "source": [
    "from tool import create_graph\n",
    "from tool import add_feature_to_graph_edges\n",
    "triples = [(1,2,3),(4,2,1),(5,1,3),(4,3,2),(3,2,1)]\n",
    "graph  = create_graph(triples)\n",
    "# add_feature_to_graph_edges(graph,triples,3)\n",
    "\n"
   ]
  },
  {
   "cell_type": "code",
   "execution_count": 12,
   "metadata": {},
   "outputs": [
    {
     "ename": "ImportError",
     "evalue": "cannot import name 'add_feature_to_graph_edges' from 'tool' (e:\\phd\\semester-4\\codes\\deep-conseption\\tool.py)",
     "output_type": "error",
     "traceback": [
      "\u001b[1;31m---------------------------------------------------------------------------\u001b[0m",
      "\u001b[1;31mImportError\u001b[0m                               Traceback (most recent call last)",
      "Cell \u001b[1;32mIn[12], line 1\u001b[0m\n\u001b[1;32m----> 1\u001b[0m \u001b[38;5;28;01mfrom\u001b[39;00m \u001b[38;5;21;01mtool\u001b[39;00m \u001b[38;5;28;01mimport\u001b[39;00m add_feature_to_graph_edges\n",
      "\u001b[1;31mImportError\u001b[0m: cannot import name 'add_feature_to_graph_edges' from 'tool' (e:\\phd\\semester-4\\codes\\deep-conseption\\tool.py)"
     ]
    }
   ],
   "source": []
  }
 ],
 "metadata": {
  "kernelspec": {
   "display_name": "dglenv",
   "language": "python",
   "name": "python3"
  },
  "language_info": {
   "codemirror_mode": {
    "name": "ipython",
    "version": 3
   },
   "file_extension": ".py",
   "mimetype": "text/x-python",
   "name": "python",
   "nbconvert_exporter": "python",
   "pygments_lexer": "ipython3",
   "version": "3.9.21"
  }
 },
 "nbformat": 4,
 "nbformat_minor": 2
}
